{
 "cells": [
  {
   "cell_type": "markdown",
   "id": "9ed9c610",
   "metadata": {},
   "source": [
    "### 导入相关模块"
   ]
  },
  {
   "cell_type": "code",
   "execution_count": 58,
   "id": "c288d8dd-cef5-40e2-8e99-b157863de861",
   "metadata": {},
   "outputs": [],
   "source": [
    "import pandas as pd\n",
    "import numpy as np\n",
    "import json"
   ]
  },
  {
   "cell_type": "markdown",
   "id": "53eba4bd",
   "metadata": {},
   "source": [
    "### 数据预处理"
   ]
  },
  {
   "cell_type": "code",
   "execution_count": 59,
   "id": "ede594a6-9d3c-4ca4-be17-d2402e974538",
   "metadata": {},
   "outputs": [
    {
     "name": "stdout",
     "output_type": "stream",
     "text": [
      "           指标  2024年  2023年  2022年  2021年  2020年  2019年  2018年  2017年  2016年  \\\n",
      "0  年末常住人口(万人)    NaN   2186   2184   2189   2189   2190   2192   2194   2195   \n",
      "1    城镇人口(万人)    NaN   1920   1913   1916   1916   1913   1909   1907   1904   \n",
      "2    乡村人口(万人)    NaN    266    271    273    273    277    283    287    291   \n",
      "\n",
      "   2015年  2014年  2013年  2012年  2011年  2010年  \n",
      "0   2188   2171   2125   2078   2024   1962  \n",
      "1   1897   1878   1836   1793   1745   1686  \n",
      "2    291    293    289    285    279    275  \n",
      "指标       年末常住人口(万人)\n",
      "2024年           NaN\n",
      "2023年          2186\n",
      "2022年          2184\n",
      "2021年          2189\n",
      "2020年          2189\n",
      "2019年          2190\n",
      "2018年          2192\n",
      "2017年          2194\n",
      "2016年          2195\n",
      "2015年          2188\n",
      "2014年          2171\n",
      "2013年          2125\n",
      "2012年          2078\n",
      "2011年          2024\n",
      "2010年          1962\n",
      "Name: 0, dtype: object\n"
     ]
    }
   ],
   "source": [
    "provences = [\n",
    "    \"北京市\",\n",
    "    \"上海市\",\n",
    "    \"天津市\",\n",
    "    \"重庆市\",\n",
    "    \"河北省\",\n",
    "    \"山西省\",\n",
    "    \"辽宁省\",\n",
    "    \"吉林省\",\n",
    "    \"黑龙江省\",\n",
    "    \"江苏省\",\n",
    "    \"浙江省\",\n",
    "    \"安徽省\",\n",
    "    \"福建省\",\n",
    "    \"江西省\",\n",
    "    \"山东省\",\n",
    "    \"河南省\",\n",
    "    \"湖北省\",\n",
    "    \"湖南省\",\n",
    "    \"广东省\",\n",
    "    \"海南省\",\n",
    "    \"四川省\",\n",
    "    \"贵州省\",\n",
    "    \"云南省\",\n",
    "    \"陕西省\",\n",
    "    \"甘肃省\",\n",
    "    \"青海省\",\n",
    "    \"内蒙古自治区\",\n",
    "    \"广西壮族自治区\",\n",
    "    \"西藏自治区\",\n",
    "    \"宁夏回族自治区\",\n",
    "    \"新疆维吾尔自治区\"\n",
    "]\n",
    "# 提取年份指标\n",
    "data_for_year = pd.read_excel(f\"Datas/全国（各省）人口数据/{provences[0]}人口数据.xlsx\")\n",
    "print(data_for_year)\n",
    "data_year = data_for_year.iloc[0]\n",
    "print(data_year)\n",
    "# # 提取总人口指标\n",
    "# for provence in provences:\n",
    "#     data = pd.read_excel(f\"Datas/全国（各省）人口数据/{provence}人口数据.xlsx\")\n",
    "#     data_all = data.loc[1]\n",
    "#     print(provence+':')\n",
    "#     print(data_all)"
   ]
  },
  {
   "cell_type": "code",
   "execution_count": 60,
   "id": "d8f832b4-145c-4ad0-a112-9ebf67c09326",
   "metadata": {},
   "outputs": [],
   "source": [
    "# 省份列表\n",
    "provences = [\n",
    "    \"全国\", \"北京市\", \"上海市\", \"天津市\", \"重庆市\",\n",
    "    \"河北省\", \"山西省\", \"辽宁省\", \"吉林省\", \"黑龙江省\",\n",
    "    \"江苏省\", \"浙江省\", \"安徽省\", \"福建省\", \"江西省\",\n",
    "    \"山东省\", \"河南省\", \"湖北省\", \"湖南省\", \"广东省\",\n",
    "    \"海南省\", \"四川省\", \"贵州省\", \"云南省\", \"陕西省\",\n",
    "    \"甘肃省\", \"青海省\", \"内蒙古自治区\", \"广西壮族自治区\",\n",
    "    \"西藏自治区\", \"宁夏回族自治区\", \"新疆维吾尔自治区\",\n",
    "    \"香港特别行政区\"\n",
    "]\n",
    "\n",
    "\n",
    "# 初始化一个空的DataFrame用于存储整合后的数据\n",
    "total_data = pd.DataFrame()\n",
    "\n",
    "for provence in provences:\n",
    "    try:\n",
    "        # 读取对应省份的人口数据文件\n",
    "        data_provence = pd.read_excel(f\"Datas/全国（各省）人口数据/{provence}人口数据.xlsx\")\n",
    "        # 提取第一行数据\n",
    "        data_first_row = data_provence.iloc[0]\n",
    "        # 将省份名称作为索引，第一行数据作为值，添加到total_data中\n",
    "        total_data[provence] = data_first_row\n",
    "    except FileNotFoundError:\n",
    "        print(f\"文件未找到：{provence}人口数据.xlsx\")\n",
    "    except Exception as e:\n",
    "        print(f\"读取{provence}数据时发生错误：{e}\")\n",
    "total_data = total_data.T\n",
    "total_data = pd.DataFrame(total_data, index=provences)\n",
    "total_data.index.name = '省份'\n",
    "# print(\"整合后的总数据：\")\n",
    "# print(total_data)"
   ]
  },
  {
   "cell_type": "markdown",
   "id": "4d7bf57f",
   "metadata": {},
   "source": [
    "### 删除无用数据列"
   ]
  },
  {
   "cell_type": "code",
   "execution_count": 61,
   "id": "99b99caf-38e4-4fa7-bf49-40b6852ebcf0",
   "metadata": {},
   "outputs": [],
   "source": [
    "total_data = total_data.drop(columns=['指标', '2024年']) # 删除指标以及暂时无数据的2024年\n",
    "# print(total_data)"
   ]
  },
  {
   "cell_type": "markdown",
   "id": "5369e68e",
   "metadata": {},
   "source": [
    "### 保存为excel与json数据"
   ]
  },
  {
   "cell_type": "code",
   "execution_count": 62,
   "id": "c8299f30",
   "metadata": {},
   "outputs": [
    {
     "name": "stdout",
     "output_type": "stream",
     "text": [
      "已经保留为excel数据：Datas_Out/总省份人口数据.xlsx\n",
      "已经保留为json数据：Datas_Out/总省份人口数据.json\n"
     ]
    }
   ],
   "source": [
    "total_data.to_excel('Datas_Out/总省份人口数据.xlsx', index = True)\n",
    "print(\"已经保留为excel数据：Datas_Out/总省份人口数据.xlsx\")\n",
    "\n",
    "total_data.to_json('Datas_Out/总省份人口数据.json', orient='index', force_ascii=False, indent=4)\n",
    "print(\"已经保留为json数据：Datas_Out/总省份人口数据.json\")"
   ]
  },
  {
   "cell_type": "code",
   "execution_count": null,
   "id": "b094254f",
   "metadata": {},
   "outputs": [],
   "source": []
  }
 ],
 "metadata": {
  "kernelspec": {
   "display_name": "ip311",
   "language": "python",
   "name": "python3"
  },
  "language_info": {
   "codemirror_mode": {
    "name": "ipython",
    "version": 3
   },
   "file_extension": ".py",
   "mimetype": "text/x-python",
   "name": "python",
   "nbconvert_exporter": "python",
   "pygments_lexer": "ipython3",
   "version": "3.11.0"
  }
 },
 "nbformat": 4,
 "nbformat_minor": 5
}
